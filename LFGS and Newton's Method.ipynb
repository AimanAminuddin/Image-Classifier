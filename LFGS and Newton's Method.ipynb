{
  "cells": [
    {
      "cell_type": "markdown",
      "metadata": {
        "id": "view-in-github",
        "colab_type": "text"
      },
      "source": [
        "<a href=\"https://colab.research.google.com/github/AimanAminuddin/Image-Classifier/blob/main/LFGS%20and%20Newton's%20Method.ipynb\" target=\"_parent\"><img src=\"https://colab.research.google.com/assets/colab-badge.svg\" alt=\"Open In Colab\"/></a>"
      ]
    },
    {
      "cell_type": "markdown",
      "metadata": {
        "id": "8nOxskH4v9F2"
      },
      "source": [
        "**Composition of Convex Functions**\n",
        "\n",
        "---\n",
        "Consider $F:R^{p}→R$  a (smooth) convex function and  $𝐺:R→R$  another (smooth) convex function.\n",
        "\n",
        "\n",
        "\n",
        "1.   Prove that the function x ↦ G(F(x)) is not necessary convex \n",
        "2.   Prove that if G is increasing, then $G(F(x))$ is necesarily convex. (this result is often used in the case when $G(x) = \\exp(x)$. "
      ]
    },
    {
      "cell_type": "markdown",
      "metadata": {
        "id": "-R-h8DXAw6FJ"
      },
      "source": [
        "\n",
        "\n",
        "1.   If $G(x) = x^{2}$ and $F(x) = -\\log(x)$. Then, both are strictly convex. However, $G(F(x)) = (-\\log(x))^{2} = \\log^{2}(x)$. Let $H(x) = G(F(x))$. Then, $H'(x) = \\frac{2\\log x}{x}$ and $H''(x) = \\frac{2(1-\\log(x))}{x^{2}}$. If $x > e$, then $H''(x) < 0$. Thus, $H(x)$ is not convex.\n",
        "2.   Suppose that G is an increasing convex function. Let $H(x) = G(F(x))$. Let $w = \\lambda x + (1-\\lambda)y$ for $\\lambda \\in [0,1]$. It is easy to see that \n",
        "\\begin{equation}\n",
        "F(w) = F(\\lambda x + (1-\\lambda)y) \\leq \\lambda F(x) + (1-\\lambda)F(y) \n",
        "\\end{equation}\n",
        "as F is convex. Since G is increasing, we have that for $x\\leq y$, then $G(x) \\leq G(y)$. Then, observe that \n",
        "\\begin{equation}\n",
        "H(w) = G(F(\\lambda x + (1-\\lambda)y) \\leq G(\\lambda F(x) + (1-\\lambda)F(y)) \\leq \\lambda G(F(x)) + (1-\\lambda)G(F(y)) \n",
        "\\end{equation} \n",
        "We have that $H(\\lambda x + (1-\\lambda y)) \\leq \\lambda H(x) + (1-\\lambda)H(y)$\n",
        "\n"
      ]
    },
    {
      "cell_type": "markdown",
      "metadata": {
        "id": "NlhIXf4H2Lnm"
      },
      "source": [
        "**Newton's method on a quadratic function**\n",
        "\n",
        "---\n",
        "Consider  𝑆  a symmetric positive definite matrix and the function\n",
        "$𝐹(𝑥)=\\frac{1}{2}\\langle 𝑥,𝑆𝑥\\rangle$. Write down what the Newton's iteration is and prove that with a learning rate  $\\eta=1$ , the Newton method converges in only one step!\n"
      ]
    },
    {
      "cell_type": "markdown",
      "metadata": {
        "id": "Yv_WxkuO4v1E"
      },
      "source": [
        "Newton Method is $x_{k+1}=x_{k} -\\eta_{k}H_{k}^{-1}\\nabla F(x_{k})$. Suppose that $\\eta_{k} = 1,\\forall k$. Then, we have that $\\nabla F(x) = Sx$ and $H_{F}(x_{k}) = S$. We have that \n",
        "\\begin{equation}\n",
        "x_{1} = x_{0} - S^{-1}Sx_{0} = x_{0}-x_{0} = 0,\\forall x_{0} \\in R^{d} \n",
        "\\end{equation}\n",
        "Hence, Newton Method converges exactly to global minimum in 1 iteration. "
      ]
    },
    {
      "cell_type": "markdown",
      "metadata": {
        "id": "5IlVEIf5R0sx"
      },
      "source": [
        "1 dimension Example\n",
        "\n",
        "\n",
        "---\n",
        "Consider the function  $𝑓:R\\rightarrow R$  defined as  $𝑓(𝑥)=𝑥^{2𝑝}$  for some integer  $𝑝\\geq1$ . Write down what the Newton iteration is."
      ]
    },
    {
      "cell_type": "markdown",
      "metadata": {
        "id": "jlsivOFxR_2b"
      },
      "source": [
        "The first derivative is $f'(x) = 2p(x^{2p-1})$. The second derivative is $f''(x) = 2p(2p-1)x^{2p-2}$. Hence, the Newton Iteration is \n",
        "\\begin{equation}\n",
        "x_{k+1} = x_{k}-\\frac{\\eta_{k}f'(x_{k})}{f''(x_{k})} = x_{k}-\\frac{2\\eta_{k}px_{k}^{2p-1}}{2p(2p-1)x_{k}^{2p-2}} = x_{k} - \\frac{\\eta_{k}x_{k}}{2p-1} = \\left(1-\\frac{\\eta_{k}}{2p-1}\\right)x_{k}\n",
        "\\end{equation}"
      ]
    },
    {
      "cell_type": "markdown",
      "metadata": {
        "id": "avuSM4Pb59_v"
      },
      "source": [
        "**Newton's Method Invariance**\n",
        "\n",
        "---\n",
        "\n",
        "Consider an invertible matrix $A \\in R^{p\\times p}$. Newton’s method is invariant with respect to change of coordinate. In other words, if  {𝑥𝑛}𝑛≥0  is the trajectory of the Newton method when minimizing a strictly convex function  $𝐹:ℝ^{p}→ℝ$  started at  $x_{0}$, and  $\\{𝑦_{𝑛}\\}_{𝑛≥0}$  is the trajectory of the Newton method when minimizing  $𝐺(𝑦)=𝐹(𝐴𝑦)$  started at  $𝑦_{0}= A^{-1}x_{0}$ then we have that  $𝑦_{𝑛}=𝐴^{−1}𝑥_{𝑛},\\forall n \\geq 1$. "
      ]
    },
    {
      "cell_type": "markdown",
      "metadata": {
        "id": "HSmCneGP6f-Q"
      },
      "source": [
        "Observe that \\begin{align}\n",
        "    y_{1} &= y_{0}-\\eta_{0}H_{0}^{-1}\\nabla G(y_{0}) \\\\ \n",
        "    &= A^{-1}x_{0}-\\eta_{0}(A^{T}H_{F}(AA^{-1}x_{0})A)^{-1}A^{T}\\nabla F(AA^{-1}x_{0}) \\\\\n",
        "    &= A^{-1}x_{0}-\\eta_{0}A^{-1}H_{F}(x_{0})^{-1}(A^{T})^{-1}A^{T}\\nabla F(x_{0}) \\\\ \n",
        "    &= A^{-1}(x_{0}-\\eta_{0}H_{F}(x_{0})^{-1}\\nabla F(x_{0})) \\\\ \n",
        "    &= A^{-1}x_{1} \\\\ \n",
        "\\end{align}\n",
        "We repeat this argument for $i=2,\\dots,n$. Hence, we have $y_{n} = A^{-1}x_{n}$."
      ]
    },
    {
      "cell_type": "markdown",
      "metadata": {
        "id": "5dd1EMjA_MpK"
      },
      "source": [
        "Generate  $𝑆= I_{d} +𝑅𝑅^{T}$  where  $𝑅 \\in ℝ^{10\\times 10}$  is a random matrix of your choice. Implement the Newton's method for minimizing the function\n",
        "$𝐹(x)=\\log(1+exp(⟨𝑥,𝑆𝑥⟩))$"
      ]
    },
    {
      "cell_type": "code",
      "execution_count": null,
      "metadata": {
        "id": "3dCj29WV_x4C"
      },
      "outputs": [],
      "source": [
        "import numpy as np \n",
        "import pylab as plt \n",
        "import jax \n",
        "import jax.numpy as jnp "
      ]
    },
    {
      "cell_type": "code",
      "execution_count": null,
      "metadata": {
        "id": "TcrGNbbf_2k-"
      },
      "outputs": [],
      "source": [
        "d = 10 \n",
        "R = np.random.normal(0,1,size = (d,d))\n",
        "S = np.eye(10) + R@R.T \n",
        "S"
      ]
    },
    {
      "cell_type": "markdown",
      "metadata": {
        "id": "TPr1iN0kU0x_"
      },
      "source": [
        "**Plot eigenvalues**"
      ]
    },
    {
      "cell_type": "code",
      "execution_count": null,
      "metadata": {
        "id": "q0bkONu5U0Uk"
      },
      "outputs": [],
      "source": [
        "eigenvalues,eigenvectors = np.linalg.eigh(S)"
      ]
    },
    {
      "cell_type": "code",
      "execution_count": null,
      "metadata": {
        "colab": {
          "base_uri": "https://localhost:8080/"
        },
        "id": "pVVTJKgDVFan",
        "outputId": "f54f440e-8127-4461-a864-f905ca205f86"
      },
      "outputs": [
        {
          "name": "stdout",
          "output_type": "stream",
          "text": [
            "1.0002571898204629\n",
            "29.264007712643277\n"
          ]
        }
      ],
      "source": [
        "print(min(eigenvalues))\n",
        "print(max(eigenvalues))"
      ]
    },
    {
      "cell_type": "code",
      "execution_count": null,
      "metadata": {
        "colab": {
          "base_uri": "https://localhost:8080/",
          "height": 298
        },
        "id": "wtebjyOBVDcb",
        "outputId": "446c98bf-4bf7-4f43-ca5b-bb3ffd0fa309"
      },
      "outputs": [
        {
          "data": {
            "text/plain": [
              "Text(0.5, 1.0, 'Eigenvalues of S')"
            ]
          },
          "execution_count": 31,
          "metadata": {},
          "output_type": "execute_result"
        },
        {
          "data": {
            "image/png": "[encoded data removed]",
            "text/plain": [
              "<Figure size 432x288 with 1 Axes>"
            ]
          },
          "metadata": {},
          "output_type": "display_data"
        }
      ],
      "source": [
        "plt.plot(eigenvalues,\"-+\")\n",
        "plt.grid(True)\n",
        "plt.title(\"Eigenvalues of S\")"
      ]
    },
    {
      "cell_type": "code",
      "execution_count": null,
      "metadata": {
        "id": "812HOnsjAZPQ"
      },
      "outputs": [],
      "source": [
        "# Function you want to minimize \n",
        "def F(x):\n",
        "  return jnp.log(1 + jnp.exp(jnp.dot(x,S@x)))"
      ]
    },
    {
      "cell_type": "code",
      "execution_count": null,
      "metadata": {
        "id": "zKbNfbBZFbWX"
      },
      "outputs": [],
      "source": [
        "d = 10 "
      ]
    },
    {
      "cell_type": "code",
      "execution_count": null,
      "metadata": {
        "id": "qb0CjZ9VCpi7"
      },
      "outputs": [],
      "source": [
        "x = np.random.normal(0,1/np.sqrt(d*d),size = d)"
      ]
    },
    {
      "cell_type": "code",
      "execution_count": null,
      "metadata": {
        "id": "XWP081PICyUC"
      },
      "outputs": [],
      "source": [
        "F_grad = jax.value_and_grad(F)\n",
        "F_hessian = jax.hessian(F)"
      ]
    },
    {
      "cell_type": "code",
      "execution_count": null,
      "metadata": {
        "id": "gKUWMHO2Aknm"
      },
      "outputs": [],
      "source": [
        "# Vanilla Newton Method \n",
        "iter = 100 \n",
        "learning_rate = 0.1 \n",
        "history = []\n",
        "x0 = x\n",
        "for i in range(iter): \n",
        "  value,gradient = F_grad(x0)\n",
        "  # find the descent direction  \n",
        "  # solving system of linear equations faster then inverting Hessian \n",
        "  descent = np.linalg.solve(F_hessian(x0),gradient)\n",
        "  x0 -= learning_rate * descent  \n",
        "  history.append(value)"
      ]
    },
    {
      "cell_type": "code",
      "execution_count": null,
      "metadata": {
        "colab": {
          "base_uri": "https://localhost:8080/"
        },
        "id": "pVaa0M3wErs9",
        "outputId": "96d71f19-7de1-4580-8185-1fee5a91b940"
      },
      "outputs": [
        {
          "name": "stdout",
          "output_type": "stream",
          "text": [
            "[DeviceArray(0.7159379, dtype=float32), DeviceArray(0.7117433, dtype=float32), DeviceArray(0.7083018, dtype=float32), DeviceArray(0.7054839, dtype=float32), DeviceArray(0.7031811, dtype=float32), DeviceArray(0.70130223, dtype=float32), DeviceArray(0.699771, dtype=float32), DeviceArray(0.69852453, dtype=float32), DeviceArray(0.69751096, dtype=float32), DeviceArray(0.69668716, dtype=float32), DeviceArray(0.69601804, dtype=float32), DeviceArray(0.69547486, dtype=float32), DeviceArray(0.69503415, dtype=float32), DeviceArray(0.69467664, dtype=float32), DeviceArray(0.69438666, dtype=float32), DeviceArray(0.69415164, dtype=float32), DeviceArray(0.693961, dtype=float32), DeviceArray(0.69380665, dtype=float32), DeviceArray(0.6936815, dtype=float32), DeviceArray(0.69358003, dtype=float32), DeviceArray(0.69349784, dtype=float32), DeviceArray(0.6934312, dtype=float32), DeviceArray(0.69337726, dtype=float32), DeviceArray(0.6933336, dtype=float32), DeviceArray(0.6932981, dtype=float32), DeviceArray(0.6932695, dtype=float32), DeviceArray(0.69324625, dtype=float32), DeviceArray(0.6932275, dtype=float32), DeviceArray(0.6932123, dtype=float32), DeviceArray(0.6931999, dtype=float32), DeviceArray(0.69318986, dtype=float32), DeviceArray(0.69318175, dtype=float32), DeviceArray(0.6931752, dtype=float32), DeviceArray(0.69316983, dtype=float32), DeviceArray(0.69316554, dtype=float32), DeviceArray(0.6931621, dtype=float32), DeviceArray(0.6931592, dtype=float32), DeviceArray(0.69315696, dtype=float32), DeviceArray(0.69315505, dtype=float32), DeviceArray(0.6931536, dtype=float32), DeviceArray(0.6931524, dtype=float32), DeviceArray(0.69315135, dtype=float32), DeviceArray(0.6931505, dtype=float32), DeviceArray(0.6931499, dtype=float32), DeviceArray(0.6931493, dtype=float32), DeviceArray(0.693149, dtype=float32), DeviceArray(0.6931486, dtype=float32), DeviceArray(0.6931484, dtype=float32), DeviceArray(0.69314814, dtype=float32), DeviceArray(0.6931479, dtype=float32), DeviceArray(0.6931479, dtype=float32), DeviceArray(0.69314766, dtype=float32), DeviceArray(0.69314766, dtype=float32), DeviceArray(0.69314754, dtype=float32), DeviceArray(0.6931474, dtype=float32), DeviceArray(0.6931474, dtype=float32), DeviceArray(0.6931474, dtype=float32), DeviceArray(0.6931473, dtype=float32), DeviceArray(0.6931473, dtype=float32), DeviceArray(0.6931473, dtype=float32), DeviceArray(0.6931472, dtype=float32), DeviceArray(0.6931472, dtype=float32), DeviceArray(0.6931472, dtype=float32), DeviceArray(0.6931472, dtype=float32), DeviceArray(0.6931472, dtype=float32), DeviceArray(0.6931472, dtype=float32), DeviceArray(0.6931472, dtype=float32), DeviceArray(0.6931472, dtype=float32), DeviceArray(0.6931472, dtype=float32), DeviceArray(0.6931472, dtype=float32), DeviceArray(0.6931472, dtype=float32), DeviceArray(0.6931472, dtype=float32), DeviceArray(0.6931472, dtype=float32), DeviceArray(0.6931472, dtype=float32), DeviceArray(0.6931472, dtype=float32), DeviceArray(0.6931472, dtype=float32), DeviceArray(0.6931472, dtype=float32), DeviceArray(0.6931472, dtype=float32), DeviceArray(0.6931472, dtype=float32), DeviceArray(0.6931472, dtype=float32), DeviceArray(0.6931472, dtype=float32), DeviceArray(0.6931472, dtype=float32), DeviceArray(0.6931472, dtype=float32), DeviceArray(0.6931472, dtype=float32), DeviceArray(0.6931472, dtype=float32), DeviceArray(0.6931472, dtype=float32), DeviceArray(0.6931472, dtype=float32), DeviceArray(0.6931472, dtype=float32), DeviceArray(0.6931472, dtype=float32), DeviceArray(0.6931472, dtype=float32), DeviceArray(0.6931472, dtype=float32), DeviceArray(0.6931472, dtype=float32), DeviceArray(0.6931472, dtype=float32), DeviceArray(0.6931472, dtype=float32), DeviceArray(0.6931472, dtype=float32), DeviceArray(0.6931472, dtype=float32), DeviceArray(0.6931472, dtype=float32), DeviceArray(0.6931472, dtype=float32), DeviceArray(0.6931472, dtype=float32), DeviceArray(0.6931472, dtype=float32)]\n"
          ]
        }
      ],
      "source": [
        "print(history)"
      ]
    },
    {
      "cell_type": "code",
      "execution_count": null,
      "metadata": {
        "colab": {
          "base_uri": "https://localhost:8080/",
          "height": 312
        },
        "id": "8NVx04WgEYeI",
        "outputId": "d5a1f337-a293-4ee4-8f9c-bba0b5a7f16a"
      },
      "outputs": [
        {
          "data": {
            "text/plain": [
              "Text(0, 0.5, 'Objective Value')"
            ]
          },
          "execution_count": 28,
          "metadata": {},
          "output_type": "execute_result"
        },
        {
          "data": {
            "image/png": "[encoded data removed]",
            "text/plain": [
              "<Figure size 432x288 with 1 Axes>"
            ]
          },
          "metadata": {},
          "output_type": "display_data"
        }
      ],
      "source": [
        "plt.plot(history,'-+')\n",
        "plt.grid(True) # add grid \n",
        "plt.title(\"Objective values over 100 iterates\")\n",
        "plt.xlabel(\"Iteration\")\n",
        "plt.ylabel(\"Objective Value\")"
      ]
    },
    {
      "cell_type": "markdown",
      "metadata": {
        "id": "SJtZbcf_HrAQ"
      },
      "source": [
        "**L-BFGS: logistic regression**\n",
        "\n",
        "---\n",
        "Consider a ridge-regularized logictic regression model for differentiating between two types of clothes. That is equivalent to minimizing the function\n",
        "$𝐿(\\beta)=\\frac{1}{N}\\sum_{i=1}^{𝑁}\\log[1+𝑒^{−𝑦_{i}\\langle x_{i},𝛽\\rangle⟩}]+\\frac{1}{N}\\|\\beta\\|_{2}^{2}$\n",
        " \n",
        "\n",
        "1.   Implement a Newton-algorithm for fitting the model.\n",
        "2.   Use the scipy implementation of L-BFGS for fitting the model: https://docs.scipy.org/doc/scipy/reference/optimize.minimize-lbfgsb.html\n",
        "\n",
        "Remark: For using L-BFGS, you may need to transform back JAX gradients into usual numpy vectors before feeding it to the L-BFGS function.\n"
      ]
    },
    {
      "cell_type": "code",
      "execution_count": null,
      "metadata": {
        "id": "-JWwk-cDHsXQ"
      },
      "outputs": [],
      "source": [
        "import jax \n",
        "from jax.config import config\n",
        "config.update('jax_enable_x64', True)\n",
        "import os as os\n",
        "import pylab as plt\n",
        "import h5py # to read hdf5 files\n",
        "import time\n",
        "import scipy\n",
        "import pandas as pd"
      ]
    },
    {
      "cell_type": "code",
      "execution_count": null,
      "metadata": {
        "colab": {
          "base_uri": "https://localhost:8080/"
        },
        "id": "O-6cUl9LX3LZ",
        "outputId": "f103f7d8-c48e-4994-a31b-2d96af999be4"
      },
      "outputs": [
        {
          "output_type": "stream",
          "name": "stdout",
          "text": [
            "Mounted at /content/drive\n"
          ]
        }
      ],
      "source": [
        "from google.colab import drive\n",
        "drive.mount('/content/drive')"
      ]
    },
    {
      "cell_type": "code",
      "source": [
        "path = r\"/content/drive/MyDrive/DSA4212\"\n",
        "\n",
        "filename = \"fashion_img_training.h5\"\n",
        "fashion_img_training = h5py.File(os.path.join(path, filename),'r')['training_images'][:]\n",
        "\n",
        "filename = \"fashion_label_training.h5\"\n",
        "fashion_label_training = h5py.File(os.path.join(path, filename),'r')['training_labels'][:]\n",
        "\n",
        "filename = \"fashion_img_val.h5\"\n",
        "fashion_img_val = h5py.File(os.path.join(path, filename),'r')['val_images'][:]\n",
        "\n",
        "filename = \"fashion_label_val.h5\"\n",
        "fashion_label_val = h5py.File(os.path.join(path, filename),'r')['val_labels'][:]"
      ],
      "metadata": {
        "id": "hggfiVU9Z6Cn"
      },
      "execution_count": null,
      "outputs": []
    },
    {
      "cell_type": "code",
      "source": [
        "# x_train and x_val contains all the flattened \n",
        "# images \n",
        "x_train = fashion_img_training.reshape(10000,28*28)\n",
        "y_train = fashion_label_training\n",
        "x_val = fashion_img_val.reshape(2000,28*28)\n",
        "y_val = fashion_label_val "
      ],
      "metadata": {
        "id": "tF4plFjoaCQh"
      },
      "execution_count": null,
      "outputs": []
    },
    {
      "cell_type": "code",
      "source": [
        "np.random.seed(4212) # ensure reproducible "
      ],
      "metadata": {
        "id": "QjGogCpYaGje"
      },
      "execution_count": null,
      "outputs": []
    },
    {
      "cell_type": "code",
      "source": [
        "# Parameter for logistic regression \n",
        "# should scale the standard deviation based on size \n",
        "# to prevent inner product between beta and examples to be large \n",
        "beta = np.random.normal(0,1/np.sqrt(28*28),size = (28*28))"
      ],
      "metadata": {
        "id": "VUkrXFmEaHL_"
      },
      "execution_count": null,
      "outputs": []
    },
    {
      "cell_type": "code",
      "source": [
        "def prediction(x,beta):\n",
        "  return 1/(1 + jnp.exp(-jnp.dot(beta,x)))"
      ],
      "metadata": {
        "id": "9EBOv9qoaUrI"
      },
      "execution_count": null,
      "outputs": []
    },
    {
      "cell_type": "markdown",
      "source": [
        "Logistic Loss with regularization parameter (Ridge Regression)\n",
        "\n",
        "---\n",
        "\n",
        "$\\frac{1}{n}\\sum_{i=1}^{n}\\log(1 + \\exp(-y_{i}\\langle \\beta,x_{i}\\rangle) + \\frac{1}{N}\\|\\beta\\|_{2}^{2}$\n"
      ],
      "metadata": {
        "id": "_59dHh17aYhP"
      }
    },
    {
      "cell_type": "code",
      "source": [
        "# We want to compute the logistic loss at a single image \n",
        "@jax.jit\n",
        "def loss_single(beta,x,y):\n",
        "  return jnp.log(1 + jnp.exp(-y * jnp.dot(x,beta))) "
      ],
      "metadata": {
        "id": "V-ttnx4eadNs"
      },
      "execution_count": null,
      "outputs": []
    },
    {
      "cell_type": "code",
      "source": [
        "vmapped_logistic_loss = jax.vmap(loss_single,in_axes = (None,0,0))"
      ],
      "metadata": {
        "id": "0wkE8CsybbT0"
      },
      "execution_count": null,
      "outputs": []
    },
    {
      "cell_type": "code",
      "source": [
        "@jax.jit\n",
        "def all_logistic_loss(beta,x,y):\n",
        "  return jnp.mean(vmapped_logistic_loss(beta,x,y)) "
      ],
      "metadata": {
        "id": "zb8hXnZYblfh"
      },
      "execution_count": null,
      "outputs": []
    },
    {
      "cell_type": "code",
      "source": [
        "all_logistic_loss(beta,x_train,y_train)"
      ],
      "metadata": {
        "colab": {
          "base_uri": "https://localhost:8080/"
        },
        "id": "o41UCWwBbxHZ",
        "outputId": "38c3ddb6-87f4-4c46-be5e-21e025deb997"
      },
      "execution_count": null,
      "outputs": [
        {
          "output_type": "execute_result",
          "data": {
            "text/plain": [
              "DeviceArray(0.71672414, dtype=float64)"
            ]
          },
          "metadata": {},
          "execution_count": 24
        }
      ]
    },
    {
      "cell_type": "code",
      "source": [
        "loss_value_and_grad = jax.value_and_grad(all_logistic_loss) \n",
        "loss_hessian = jax.hessian(all_logistic_loss)\n",
        "loss_grad = jax.grad(all_logistic_loss) "
      ],
      "metadata": {
        "id": "rxCmdkrvb8gs"
      },
      "execution_count": null,
      "outputs": []
    },
    {
      "cell_type": "markdown",
      "source": [
        "**L-BFGS Algorithm**"
      ],
      "metadata": {
        "id": "Do9AY5SgcSIT"
      }
    },
    {
      "cell_type": "markdown",
      "source": [
        "**Example**"
      ],
      "metadata": {
        "id": "_BewD1hBdRNS"
      }
    },
    {
      "cell_type": "code",
      "source": [
        "# let us minimize this simple function\n",
        "def func(x):\n",
        "    \"\"\" F: R^p --> R\"\"\"\n",
        "    return jnp.mean( jnp.sin(x)**2 )\n",
        "\n",
        "grad_func = jax.jit(jax.grad(func))\n"
      ],
      "metadata": {
        "id": "_MjT0NDgdTNi"
      },
      "execution_count": null,
      "outputs": []
    },
    {
      "cell_type": "code",
      "source": [
        "#let's create a wrapper to make sure the output is a standard numpy gradient\n",
        "def gradient_wrapper(x):\n",
        "    \"\"\" compute the gradient of func at x and make sure that the output is a numpy array\"\"\"\n",
        "    return np.array(grad_func(x))"
      ],
      "metadata": {
        "id": "2aiA82q8cYTl"
      },
      "execution_count": null,
      "outputs": []
    },
    {
      "cell_type": "code",
      "source": [
        "x_init = jnp.array([1. ,2. , 3.])\n",
        "gradient_wrapper(x_init)"
      ],
      "metadata": {
        "colab": {
          "base_uri": "https://localhost:8080/"
        },
        "id": "aTzKWAnHdcit",
        "outputId": "28f38d36-f58e-402f-a8b4-08db57433877"
      },
      "execution_count": null,
      "outputs": [
        {
          "output_type": "execute_result",
          "data": {
            "text/plain": [
              "array([ 0.30309914, -0.2522675 , -0.0931385 ])"
            ]
          },
          "metadata": {},
          "execution_count": 36
        }
      ]
    },
    {
      "cell_type": "code",
      "source": [
        "def loss_gradient_wrapper(beta):\n",
        "  return np.array(loss_grad(beta,x_train,y_train))"
      ],
      "metadata": {
        "id": "A0n9FqSKeMpw"
      },
      "execution_count": null,
      "outputs": []
    },
    {
      "cell_type": "code",
      "source": [
        "def loss_(beta):\n",
        "  return all_logistic_loss(beta,x_train,y_train)"
      ],
      "metadata": {
        "id": "Yb6ZP-nkkhXx"
      },
      "execution_count": null,
      "outputs": []
    },
    {
      "cell_type": "code",
      "source": [
        "loss_history = []  #to save the loss trajectory\n",
        "time_history = []  #to save the compute time\n",
        "\n",
        "def save_traj(beta):\n",
        "    \"\"\" a function that saves a few statistics for later analysis\"\"\"\n",
        "    loss_history.append(loss_(beta))\n",
        "    time_history.append(time.time() - start)\n",
        "\n",
        "start = time.time()\n",
        "traj = scipy.optimize.minimize(fun = loss_, #functino to minimize\n",
        "                                x0 = np.array(beta_init), #initial guess\n",
        "                                method='L-BFGS-B',  #we want to use L-BFGS\n",
        "                                jac=loss_gradient_wrapper, #function that computes the gradient\n",
        "                                callback=save_traj, #a function used to save some results for later pltting\n",
        "                                options={\"maxiter\":100})  #maximum number of iteration"
      ],
      "metadata": {
        "id": "jkSVChNcej-P"
      },
      "execution_count": null,
      "outputs": []
    },
    {
      "cell_type": "code",
      "source": [
        "plt.plot(time_history, loss_history, \"r-s\")\n",
        "plt.xlabel(\"time (sec)\")\n",
        "plt.ylabel(\"loss\")\n",
        "plt.title(\"L-BFGS\")\n",
        "plt.grid(True)"
      ],
      "metadata": {
        "colab": {
          "base_uri": "https://localhost:8080/",
          "height": 295
        },
        "id": "AktxbKqojQou",
        "outputId": "37da8f6f-a3dc-46da-8b38-a84746dfee29"
      },
      "execution_count": null,
      "outputs": [
        {
          "output_type": "display_data",
          "data": {
            "image/png": "[encoded data removed]",
            "text/plain": [
              "<Figure size 432x288 with 1 Axes>"
            ]
          },
          "metadata": {
            "needs_background": "light"
          }
        }
      ]
    }
  ],
  "metadata": {
    "accelerator": "GPU",
    "colab": {
      "name": "Week 8 Tutorial.ipynb",
      "provenance": [],
      "mount_file_id": "1C21Wrwn4bPeK35fBInfOohiysPrHh9Va",
      "authorship_tag": "ABX9TyO0HCMDE8JwYcrnt29AEPlK",
      "include_colab_link": true
    },
    "kernelspec": {
      "display_name": "Python 3",
      "name": "python3"
    },
    "language_info": {
      "name": "python"
    }
  },
  "nbformat": 4,
  "nbformat_minor": 0
}